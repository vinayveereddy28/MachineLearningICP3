{
 "cells": [
  {
   "cell_type": "markdown",
   "metadata": {
    "colab": {
     "base_uri": "https://localhost:8080/"
    },
    "id": "i119VhueFqG0",
    "outputId": "9ff25b34-ca9c-4c01-ebe8-dacba4b915f9"
   },
   "source": [
    "# Numpy"
   ]
  },
  {
   "cell_type": "code",
   "execution_count": 11,
   "metadata": {},
   "outputs": [
    {
     "name": "stdout",
     "output_type": "stream",
     "text": [
      "[ 7 16  3 17  1  9 18 19  9  2  5 15  7  9 19]\n",
      "[[ 7 16  3 17  1]\n",
      " [ 9 18 19  9  2]\n",
      " [ 5 15  7  9 19]]\n",
      "(3, 5)\n",
      "[[ 7 16  3  0  1]\n",
      " [ 9 18  0  9  2]\n",
      " [ 5 15  7  9  0]]\n"
     ]
    }
   ],
   "source": [
    "import numpy as np\n",
    "\n",
    "# Creating a random vector of size 15 with integers of range 1-20\n",
    "random_vector = np.random.randint(low=1, high=21, size=15)\n",
    "print(random_vector)\n",
    "\n",
    "# Reshaping the vector to 3 by 5 array\n",
    "array_3x5 = random_vector.reshape(3, 5)\n",
    "print(array_3x5)\n",
    "\n",
    "# Printing the shape of the array\n",
    "print(array_3x5.shape)\n",
    "\n",
    "# Replacing the max in each row by 0\n",
    "array_3x5[np.arange(3), array_3x5.argmax(axis=1)] = 0\n",
    "\n",
    "# Printing the modified array\n",
    "print(array_3x5)"
   ]
  },
  {
   "cell_type": "code",
   "execution_count": 10,
   "metadata": {},
   "outputs": [
    {
     "name": "stdout",
     "output_type": "stream",
     "text": [
      "[[ 3  2  1]\n",
      " [ 6  5  4]\n",
      " [ 9  8  7]\n",
      " [12 11 10]]\n",
      "Shape: (4, 3)\n",
      "Type: <class 'numpy.ndarray'>\n",
      "Data Type: int32\n"
     ]
    }
   ],
   "source": [
    "import numpy as np\n",
    "\n",
    "arr = np.array([[3, 2, 1], [6, 5, 4], [9, 8, 7], [12, 11, 10]], dtype=np.int32)\n",
    "# Printing the actual Array \n",
    "print(arr)\n",
    "# Printing the Shape pf the Array\n",
    "print(f\"Shape: {arr.shape}\")\n",
    "# Printing the Type pf the Array\n",
    "print(f\"Type: {type(arr)}\")\n",
    "# Printing the Data Type of the array\n",
    "print(f\"Data Type: {arr.dtype}\")\n"
   ]
  },
  {
   "cell_type": "code",
   "execution_count": 14,
   "metadata": {
    "colab": {
     "base_uri": "https://localhost:8080/"
    },
    "id": "4tmnRAfpF4K1",
    "outputId": "012512bb-c5f6-4108-eff8-23b30a269e5d"
   },
   "outputs": [
    {
     "name": "stdout",
     "output_type": "stream",
     "text": [
      "[[ 3 -2]\n",
      " [ 1  0]]\n",
      "Eigenvalues:  [2. 1.]\n",
      "Right eigenvectors:\n",
      " [[0.89442719 0.70710678]\n",
      " [0.4472136  0.70710678]]\n"
     ]
    }
   ],
   "source": [
    "import numpy as np\n",
    "\n",
    "# Defining the input matrix\n",
    "A = np.array([[3, -2], [1, 0]])\n",
    "print(A)\n",
    "# Computing the eigenvalues and right eigenvectors\n",
    "eigenvalues, eigenvectors = np.linalg.eig(A)\n",
    "\n",
    "# Printing the results\n",
    "print(\"Eigenvalues: \", eigenvalues)\n",
    "print(\"Right eigenvectors:\\n\", eigenvectors)\n"
   ]
  },
  {
   "cell_type": "code",
   "execution_count": 5,
   "metadata": {
    "colab": {
     "base_uri": "https://localhost:8080/"
    },
    "id": "fmM6ms9XF8tX",
    "outputId": "c28e95d0-acbb-4ff3-812d-61542110c981"
   },
   "outputs": [
    {
     "name": "stdout",
     "output_type": "stream",
     "text": [
      "Sum of diagonal elements: 4\n"
     ]
    }
   ],
   "source": [
    "import numpy as np\n",
    "\n",
    "# Defining the input array\n",
    "A = np.array([[0, 1, 2], [3, 4, 5]])\n",
    "\n",
    "# Computing the sum of the diagonal elements\n",
    "diag_sum = np.trace(A)\n",
    "\n",
    "# Printing the result\n",
    "print(\"Sum of diagonal elements:\", diag_sum)\n",
    "\n"
   ]
  },
  {
   "cell_type": "code",
   "execution_count": 4,
   "metadata": {
    "colab": {
     "base_uri": "https://localhost:8080/"
    },
    "id": "TCwS_tMcGBPY",
    "outputId": "14912dc2-3367-4c75-f4fa-7622db382268"
   },
   "outputs": [
    {
     "name": "stdout",
     "output_type": "stream",
     "text": [
      "Original array:\n",
      " [[1 2]\n",
      " [3 4]\n",
      " [5 6]]\n",
      "Reshaped array:\n",
      " [[1 2 3]\n",
      " [4 5 6]]\n"
     ]
    }
   ],
   "source": [
    "import numpy as np\n",
    "\n",
    "# Defining the input array\n",
    "A = np.array([[1, 2], [3, 4], [5, 6]])\n",
    "\n",
    "# Reshaping the array to a 2x3 shape without changing its data\n",
    "B = A.reshape((2, 3))\n",
    "\n",
    "# Printing the original and reshaped arrays\n",
    "print(\"Original array:\\n\", A)\n",
    "print(\"Reshaped array:\\n\", B)\n"
   ]
  }
 ],
 "metadata": {
  "colab": {
   "provenance": []
  },
  "kernelspec": {
   "display_name": "Python 3 (ipykernel)",
   "language": "python",
   "name": "python3"
  },
  "language_info": {
   "codemirror_mode": {
    "name": "ipython",
    "version": 3
   },
   "file_extension": ".py",
   "mimetype": "text/x-python",
   "name": "python",
   "nbconvert_exporter": "python",
   "pygments_lexer": "ipython3",
   "version": "3.11.5"
  }
 },
 "nbformat": 4,
 "nbformat_minor": 1
}
